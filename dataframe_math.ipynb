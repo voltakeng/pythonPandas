{
 "cells": [
  {
   "cell_type": "code",
   "execution_count": 44,
   "metadata": {},
   "outputs": [
    {
     "data": {
      "text/html": [
       "<div>\n",
       "<style scoped>\n",
       "    .dataframe tbody tr th:only-of-type {\n",
       "        vertical-align: middle;\n",
       "    }\n",
       "\n",
       "    .dataframe tbody tr th {\n",
       "        vertical-align: top;\n",
       "    }\n",
       "\n",
       "    .dataframe thead th {\n",
       "        text-align: right;\n",
       "    }\n",
       "</style>\n",
       "<table border=\"1\" class=\"dataframe\">\n",
       "  <thead>\n",
       "    <tr style=\"text-align: right;\">\n",
       "      <th></th>\n",
       "      <th>Category</th>\n",
       "      <th>Price</th>\n",
       "      <th>Amount</th>\n",
       "    </tr>\n",
       "    <tr>\n",
       "      <th>Name</th>\n",
       "      <th></th>\n",
       "      <th></th>\n",
       "      <th></th>\n",
       "    </tr>\n",
       "  </thead>\n",
       "  <tbody>\n",
       "    <tr>\n",
       "      <th>เมาส์</th>\n",
       "      <td>อุปกรณ์คอมพิวเตอร์</td>\n",
       "      <td>900.0</td>\n",
       "      <td>10.0</td>\n",
       "    </tr>\n",
       "    <tr>\n",
       "      <th>ปากกา</th>\n",
       "      <td>อุปกรณ์การเรียน</td>\n",
       "      <td>200.0</td>\n",
       "      <td>5.0</td>\n",
       "    </tr>\n",
       "    <tr>\n",
       "      <th>โคมไฟ</th>\n",
       "      <td>เครื่องใช้ในบ้าน</td>\n",
       "      <td>1200.0</td>\n",
       "      <td>7.0</td>\n",
       "    </tr>\n",
       "    <tr>\n",
       "      <th>ไมโครโฟน</th>\n",
       "      <td>เครื่องใช้ไฟฟ้า</td>\n",
       "      <td>750.0</td>\n",
       "      <td>1.0</td>\n",
       "    </tr>\n",
       "    <tr>\n",
       "      <th>เครื่องซักผ้า</th>\n",
       "      <td>เครื่องใช้ไฟฟ้า</td>\n",
       "      <td>3500.0</td>\n",
       "      <td>0.0</td>\n",
       "    </tr>\n",
       "    <tr>\n",
       "      <th>เสื้อยืดคอกลม</th>\n",
       "      <td>เสื้อผ้า</td>\n",
       "      <td>500.0</td>\n",
       "      <td>2.0</td>\n",
       "    </tr>\n",
       "    <tr>\n",
       "      <th>กางเกงยีนต์</th>\n",
       "      <td>เสื้อผ้า</td>\n",
       "      <td>999.0</td>\n",
       "      <td>8.0</td>\n",
       "    </tr>\n",
       "    <tr>\n",
       "      <th>ตุ๊กตาหมีพูห์</th>\n",
       "      <td>ของเล่น</td>\n",
       "      <td>950.0</td>\n",
       "      <td>5.0</td>\n",
       "    </tr>\n",
       "    <tr>\n",
       "      <th>โซฟา</th>\n",
       "      <td>เฟอร์นิเจอร์</td>\n",
       "      <td>5000.0</td>\n",
       "      <td>5.0</td>\n",
       "    </tr>\n",
       "    <tr>\n",
       "      <th>จาน</th>\n",
       "      <td>เครื่องครัว</td>\n",
       "      <td>250.0</td>\n",
       "      <td>4.0</td>\n",
       "    </tr>\n",
       "    <tr>\n",
       "      <th>ทีวี</th>\n",
       "      <td>เครื่องใช้ไฟฟ้า</td>\n",
       "      <td>15000.0</td>\n",
       "      <td>7.0</td>\n",
       "    </tr>\n",
       "    <tr>\n",
       "      <th>ยางลบ</th>\n",
       "      <td>อุปกรณ์การเรียน</td>\n",
       "      <td>20.0</td>\n",
       "      <td>5.0</td>\n",
       "    </tr>\n",
       "    <tr>\n",
       "      <th>External HardDisk</th>\n",
       "      <td>อุปกรณ์คอมพิวเตอร์</td>\n",
       "      <td>2500.0</td>\n",
       "      <td>7.0</td>\n",
       "    </tr>\n",
       "    <tr>\n",
       "      <th>คีย์บอร์ด</th>\n",
       "      <td>อุปกรณ์คอมพิวเตอร์</td>\n",
       "      <td>850.0</td>\n",
       "      <td>5.0</td>\n",
       "    </tr>\n",
       "    <tr>\n",
       "      <th>รถบังคับ</th>\n",
       "      <td>ของเล่น</td>\n",
       "      <td>500.0</td>\n",
       "      <td>6.0</td>\n",
       "    </tr>\n",
       "  </tbody>\n",
       "</table>\n",
       "</div>"
      ],
      "text/plain": [
       "                             Category    Price  Amount\n",
       "Name                                                  \n",
       "เมาส์              อุปกรณ์คอมพิวเตอร์    900.0    10.0\n",
       "ปากกา                 อุปกรณ์การเรียน    200.0     5.0\n",
       "โคมไฟ                เครื่องใช้ในบ้าน   1200.0     7.0\n",
       "ไมโครโฟน              เครื่องใช้ไฟฟ้า    750.0     1.0\n",
       "เครื่องซักผ้า         เครื่องใช้ไฟฟ้า   3500.0     0.0\n",
       "เสื้อยืดคอกลม                เสื้อผ้า    500.0     2.0\n",
       "กางเกงยีนต์                  เสื้อผ้า    999.0     8.0\n",
       "ตุ๊กตาหมีพูห์                 ของเล่น    950.0     5.0\n",
       "โซฟา                     เฟอร์นิเจอร์   5000.0     5.0\n",
       "จาน                       เครื่องครัว    250.0     4.0\n",
       "ทีวี                  เครื่องใช้ไฟฟ้า  15000.0     7.0\n",
       "ยางลบ                 อุปกรณ์การเรียน     20.0     5.0\n",
       "External HardDisk  อุปกรณ์คอมพิวเตอร์   2500.0     7.0\n",
       "คีย์บอร์ด          อุปกรณ์คอมพิวเตอร์    850.0     5.0\n",
       "รถบังคับ                      ของเล่น    500.0     6.0"
      ]
     },
     "execution_count": 44,
     "metadata": {},
     "output_type": "execute_result"
    }
   ],
   "source": [
    "import pandas as pd \n",
    "\n",
    "df = pd.read_excel(\"excel/Stock.xlsx\",\"แผ่น1\",index_col=\"Name\")\n",
    "df"
   ]
  },
  {
   "cell_type": "code",
   "execution_count": 45,
   "metadata": {},
   "outputs": [
    {
     "data": {
      "text/plain": [
       "15000.0"
      ]
     },
     "execution_count": 45,
     "metadata": {},
     "output_type": "execute_result"
    }
   ],
   "source": [
    "df.Price.max()\n"
   ]
  },
  {
   "cell_type": "code",
   "execution_count": 46,
   "metadata": {},
   "outputs": [
    {
     "data": {
      "text/plain": [
       "20.0"
      ]
     },
     "execution_count": 46,
     "metadata": {},
     "output_type": "execute_result"
    }
   ],
   "source": [
    "df.Price.min()\n"
   ]
  },
  {
   "cell_type": "code",
   "execution_count": 47,
   "metadata": {},
   "outputs": [
    {
     "data": {
      "text/plain": [
       "2207.9333333333334"
      ]
     },
     "execution_count": 47,
     "metadata": {},
     "output_type": "execute_result"
    }
   ],
   "source": [
    "df.Price.mean()\n"
   ]
  },
  {
   "cell_type": "code",
   "execution_count": 48,
   "metadata": {},
   "outputs": [
    {
     "data": {
      "text/plain": [
       "15"
      ]
     },
     "execution_count": 48,
     "metadata": {},
     "output_type": "execute_result"
    }
   ],
   "source": [
    "df.Price.count()"
   ]
  },
  {
   "cell_type": "code",
   "execution_count": 49,
   "metadata": {},
   "outputs": [
    {
     "data": {
      "text/plain": [
       "Category    อุปกรณ์คอมพิวเตอร์อุปกรณ์การเรียนเครื่องใช้ในบ...\n",
       "Price                                                 33119.0\n",
       "Amount                                                   77.0\n",
       "dtype: object"
      ]
     },
     "execution_count": 49,
     "metadata": {},
     "output_type": "execute_result"
    }
   ],
   "source": [
    "df.sum()"
   ]
  },
  {
   "cell_type": "code",
   "execution_count": 50,
   "metadata": {},
   "outputs": [
    {
     "name": "stderr",
     "output_type": "stream",
     "text": [
      "C:\\Users\\Keng\\AppData\\Local\\Temp/ipykernel_16776/1459321664.py:1: FutureWarning: Dropping of nuisance columns in DataFrame reductions (with 'numeric_only=None') is deprecated; in a future version this will raise TypeError.  Select only valid columns before calling the reduction.\n",
      "  df.sum(axis=1)\n"
     ]
    },
    {
     "data": {
      "text/plain": [
       "Name\n",
       "เมาส์                  910.0\n",
       "ปากกา                  205.0\n",
       "โคมไฟ                 1207.0\n",
       "ไมโครโฟน               751.0\n",
       "เครื่องซักผ้า         3500.0\n",
       "เสื้อยืดคอกลม          502.0\n",
       "กางเกงยีนต์           1007.0\n",
       "ตุ๊กตาหมีพูห์          955.0\n",
       "โซฟา                  5005.0\n",
       "จาน                    254.0\n",
       "ทีวี                 15007.0\n",
       "ยางลบ                   25.0\n",
       "External HardDisk     2507.0\n",
       "คีย์บอร์ด              855.0\n",
       "รถบังคับ               506.0\n",
       "dtype: float64"
      ]
     },
     "execution_count": 50,
     "metadata": {},
     "output_type": "execute_result"
    }
   ],
   "source": [
    "df.sum(axis=1)"
   ]
  },
  {
   "cell_type": "code",
   "execution_count": 51,
   "metadata": {},
   "outputs": [
    {
     "data": {
      "text/plain": [
       "33119.0"
      ]
     },
     "execution_count": 51,
     "metadata": {},
     "output_type": "execute_result"
    }
   ],
   "source": [
    "df.Price.sum()"
   ]
  }
 ],
 "metadata": {
  "interpreter": {
   "hash": "94ab27af88a833714c6fb1f1e939c7114c8f6afc05a9b000f381e0b2911d2fdb"
  },
  "kernelspec": {
   "display_name": "Python 3.10.0 64-bit",
   "language": "python",
   "name": "python3"
  },
  "language_info": {
   "codemirror_mode": {
    "name": "ipython",
    "version": 3
   },
   "file_extension": ".py",
   "mimetype": "text/x-python",
   "name": "python",
   "nbconvert_exporter": "python",
   "pygments_lexer": "ipython3",
   "version": "3.10.0"
  },
  "orig_nbformat": 4
 },
 "nbformat": 4,
 "nbformat_minor": 2
}
